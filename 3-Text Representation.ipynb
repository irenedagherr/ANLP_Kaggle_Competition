{
 "cells": [
  {
   "cell_type": "markdown",
   "metadata": {},
   "source": [
    "# STEP 3: Text Representation"
   ]
  },
  {
   "cell_type": "markdown",
   "metadata": {},
   "source": [
    "Now that our texts is tokenised the goal now is to represent the text in a way that we can deal with.First, using BOW (Bag of words) we transform the text into numerical vectors"
   ]
  },
  {
   "cell_type": "code",
   "execution_count": null,
   "metadata": {},
   "outputs": [],
   "source": [
    "from sklearn.feature_extraction.text import CountVectorizer\n",
    "import pandas as pd\n",
    "\n",
    "# Charger les données\n",
    "df = pd.read_csv(\"train_cleaned_numeric_labels.csv\")\n",
    "\n",
    "# Initialiser CountVectorizer (BoW)\n",
    "vectorizer = CountVectorizer()\n",
    "\n",
    "# Transformer les textes en vecteurs\n",
    "X_bow = vectorizer.fit_transform(df[\"Text\"])\n",
    "\n",
    "# Afficher la taille de la matrice\n",
    "print(f\"Taille de la matrice BoW : {X_bow.shape}\")\n"
   ]
  },
  {
   "cell_type": "code",
   "execution_count": null,
   "metadata": {},
   "outputs": [],
   "source": [
    "vectorizer_ngram = CountVectorizer(ngram_range=(1, 3))  # Unigrammes, bigrammes et trigrammes\n",
    "X_ngram = vectorizer_ngram.fit_transform(df[\"Text\"])\n",
    "\n",
    "print(f\"Taille de la matrice N-grams : {X_ngram.shape}\")"
   ]
  },
  {
   "cell_type": "markdown",
   "metadata": {},
   "source": [
    "Bag of words takes into consideration the words only not their frequency this is why we use TF-IDF so we can take into account the importance of each word"
   ]
  },
  {
   "cell_type": "code",
   "execution_count": null,
   "metadata": {},
   "outputs": [],
   "source": [
    "from sklearn.feature_extraction.text import TfidfVectorizer\n",
    "\n",
    "vectorizer_tfidf = TfidfVectorizer(ngram_range=(1, 3))\n",
    "X_tfidf = vectorizer_tfidf.fit_transform(df[\"Text\"])\n",
    "\n",
    "print(f\"Taille de la matrice TF-IDF : {X_tfidf.shape}\")"
   ]
  }
 ],
 "metadata": {
  "language_info": {
   "name": "python"
  }
 },
 "nbformat": 4,
 "nbformat_minor": 2
}
