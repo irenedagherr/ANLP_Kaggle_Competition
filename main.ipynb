{
 "cells": [
  {
   "cell_type": "code",
   "execution_count": null,
   "metadata": {},
   "outputs": [],
   "source": [
    "import pandas as pd\n",
    "\n",
    "# Load the training dataset\n",
    "train_path = \"/mnt/data/train_submission.csv\"\n",
    "train_df = pd.read_csv(train_path)\n",
    "\n",
    "# Display basic information and preview the dataset\n",
    "train_df.info(), train_df.head()\n"
   ]
  }
 ],
 "metadata": {
  "language_info": {
   "name": "python"
  }
 },
 "nbformat": 4,
 "nbformat_minor": 2
}
